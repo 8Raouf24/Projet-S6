{
  "nbformat": 4,
  "nbformat_minor": 0,
  "metadata": {
    "colab": {
      "name": "Untitled1.ipynb",
      "provenance": [],
      "collapsed_sections": [],
      "authorship_tag": "ABX9TyOdBoIbd3mO6TNQiGcXvetu",
      "include_colab_link": true
    },
    "kernelspec": {
      "name": "python3",
      "display_name": "Python 3"
    }
  },
  "cells": [
    {
      "cell_type": "markdown",
      "metadata": {
        "id": "view-in-github",
        "colab_type": "text"
      },
      "source": [
        "<a href=\"https://colab.research.google.com/github/8Raouf24/Projet-S6/blob/master/Ontologie.ipynb\" target=\"_parent\"><img src=\"https://colab.research.google.com/assets/colab-badge.svg\" alt=\"Open In Colab\"/></a>"
      ]
    },
    {
      "cell_type": "markdown",
      "metadata": {
        "id": "ekEMyAQ_AVrb",
        "colab_type": "text"
      },
      "source": [
        "Etape 1 : Création de notre ontologie ainsi de nos composantes"
      ]
    },
    {
      "cell_type": "code",
      "metadata": {
        "id": "Hu4UVOZxAH4w",
        "colab_type": "code",
        "colab": {
          "base_uri": "https://localhost:8080/",
          "height": 187
        },
        "outputId": "030d008d-4094-4b0f-e5c6-c7b0103bfe1d"
      },
      "source": [
        "!pip install owlready2"
      ],
      "execution_count": 3,
      "outputs": [
        {
          "output_type": "stream",
          "text": [
            "Collecting owlready2\n",
            "\u001b[?25l  Downloading https://files.pythonhosted.org/packages/af/1c/7e4c25d5539ac8979d633afe03d16ddb01716c6cde97ebea33a6659ea9c6/Owlready2-0.24.tar.gz (20.8MB)\n",
            "\u001b[K     |████████████████████████████████| 20.8MB 1.4MB/s \n",
            "\u001b[?25hBuilding wheels for collected packages: owlready2\n",
            "  Building wheel for owlready2 (setup.py) ... \u001b[?25l\u001b[?25hdone\n",
            "  Created wheel for owlready2: filename=Owlready2-0.24-cp36-cp36m-linux_x86_64.whl size=20262968 sha256=50406d1eec0a0a514c145df305da008ef1ee10da38ea9b3c9c8255ef080dc6d9\n",
            "  Stored in directory: /root/.cache/pip/wheels/66/87/0b/7a97bd19c9dc817b279aadb5dd920ce3a77050e2ab5a413f43\n",
            "Successfully built owlready2\n",
            "Installing collected packages: owlready2\n",
            "Successfully installed owlready2-0.24\n"
          ],
          "name": "stdout"
        }
      ]
    },
    {
      "cell_type": "code",
      "metadata": {
        "id": "QuLKH1mNAL3F",
        "colab_type": "code",
        "colab": {}
      },
      "source": [
        "from owlready2 import *"
      ],
      "execution_count": 0,
      "outputs": []
    },
    {
      "cell_type": "code",
      "metadata": {
        "id": "b_kDw6quAUnF",
        "colab_type": "code",
        "colab": {}
      },
      "source": [
        "default_world.set_backend(filename = \"file_back3.sqlite3\", exclusive = False)"
      ],
      "execution_count": 0,
      "outputs": []
    },
    {
      "cell_type": "code",
      "metadata": {
        "id": "44SVC6I_Ao9K",
        "colab_type": "code",
        "colab": {}
      },
      "source": [
        "onto = get_ontology(\"http://health.org/covid.owl\")\n",
        "Url = (\"http://sararaouf.oms/Covid_ont#\")"
      ],
      "execution_count": 0,
      "outputs": []
    },
    {
      "cell_type": "code",
      "metadata": {
        "id": "9q0bmG2rA0Ro",
        "colab_type": "code",
        "colab": {}
      },
      "source": [
        "with onto :\n",
        "  class Humain(Thing):\n",
        "    pass\n",
        "\n",
        "  class Nom(DataProperty):\n",
        "    range = [str]\n",
        "    domain = [Humain]\n",
        "\n",
        "  class Prenom(DataProperty):\n",
        "    range = [str]\n",
        "    domain = [Humain] \n",
        "\n",
        "\n",
        "\n",
        "  class Patient(Humain):\n",
        "    pass\n",
        "\n",
        "  class ID(Patient >> int): #Unicité a questionner\n",
        "    pass\n",
        "\n",
        "  class Sexe(Patient >> str):\n",
        "    pass\n",
        "\n",
        "  class Age(Patient >> int):\n",
        "    pass\n",
        "\n",
        "  class TrancheAge(Patient >> str):\n",
        "    pass\n",
        "\n",
        "  class MaladieChronique(Patient >> str):\n",
        "    pass\n",
        "\n",
        "  class Traitement(Patient >> str):\n",
        "    pass\n",
        "\n",
        "  class SituationFamiliale(Patient >> str):\n",
        "    pass\n",
        "\n",
        "  class DureeDepuisDernierVoyage(Patient >> int): #Jour\n",
        "    pass\n",
        "\n",
        "  class DureeDepuisApparitionDesSymptomes(Patient >> int): #Jour\n",
        "    pass\n",
        "\n",
        "\n",
        "    \n",
        "\n",
        "\n",
        "  class Medecin(Humain):\n",
        "    pass\n",
        "\n",
        "  class ID(Medecin >> int):\n",
        "    pass\n",
        "\n",
        "\n",
        "\n",
        "  class Localisation(Thing):\n",
        "    pass\n",
        "\n",
        "  class Wilaya(Localisation):\n",
        "    pass\n",
        "\n",
        "  class Daira(Localisation):\n",
        "    pass\n",
        "\n",
        "\n",
        "  class Symptomes(Thing):\n",
        "    pass\n",
        "\n",
        "  class SymptomesCovid(Symptomes):\n",
        "    pass\n",
        "\n",
        "  \n",
        "  class Orientation(Thing):\n",
        "    pass\n",
        "\n",
        "  class \n",
        "\n",
        "\n",
        "  \n",
        "\n"
      ],
      "execution_count": 0,
      "outputs": []
    }
  ]
}